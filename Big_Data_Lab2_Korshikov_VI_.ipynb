{
  "nbformat": 4,
  "nbformat_minor": 0,
  "metadata": {
    "colab": {
      "name": "Big_Data_Lab2_Korshikov_VI_.ipynb",
      "provenance": [],
      "collapsed_sections": []
    },
    "kernelspec": {
      "name": "python3",
      "display_name": "Python 3"
    },
    "language_info": {
      "name": "python"
    }
  },
  "cells": [
    {
      "cell_type": "code",
      "execution_count": 1,
      "metadata": {
        "colab": {
          "base_uri": "https://localhost:8080/"
        },
        "id": "j245i1Rn7oD8",
        "outputId": "52fb684d-a164-45c8-86a8-f2db031e9bf8"
      },
      "outputs": [
        {
          "output_type": "stream",
          "name": "stdout",
          "text": [
            "Mounted at /content/drive\n"
          ]
        }
      ],
      "source": [
        "#Подключаем гугл-диск\n",
        "from google.colab import drive\n",
        "drive.mount('/content/drive')"
      ]
    },
    {
      "cell_type": "code",
      "source": [
        "#Устанавливаем PySpark\n",
        "!pip install pyspark"
      ],
      "metadata": {
        "colab": {
          "base_uri": "https://localhost:8080/"
        },
        "id": "f7DwEV3h9Aas",
        "outputId": "6aa4ac0c-a8d6-4757-a599-c84146a583c9"
      },
      "execution_count": 2,
      "outputs": [
        {
          "output_type": "stream",
          "name": "stdout",
          "text": [
            "Collecting pyspark\n",
            "  Downloading pyspark-3.2.0.tar.gz (281.3 MB)\n",
            "\u001b[K     |████████████████████████████████| 281.3 MB 37 kB/s \n",
            "\u001b[?25hCollecting py4j==0.10.9.2\n",
            "  Downloading py4j-0.10.9.2-py2.py3-none-any.whl (198 kB)\n",
            "\u001b[K     |████████████████████████████████| 198 kB 45.7 MB/s \n",
            "\u001b[?25hBuilding wheels for collected packages: pyspark\n",
            "  Building wheel for pyspark (setup.py) ... \u001b[?25l\u001b[?25hdone\n",
            "  Created wheel for pyspark: filename=pyspark-3.2.0-py2.py3-none-any.whl size=281805911 sha256=7a4f0de1e2948ece7a17b83f9f548f13b15ad05d1c8c9246aa8975c024a4c5b0\n",
            "  Stored in directory: /root/.cache/pip/wheels/0b/de/d2/9be5d59d7331c6c2a7c1b6d1a4f463ce107332b1ecd4e80718\n",
            "Successfully built pyspark\n",
            "Installing collected packages: py4j, pyspark\n",
            "Successfully installed py4j-0.10.9.2 pyspark-3.2.0\n"
          ]
        }
      ]
    },
    {
      "cell_type": "code",
      "source": [
        "#Импортируем библиотеки\n",
        "import os\n",
        "import pyspark\n",
        "from datetime import datetime\n",
        "from pyspark.sql.functions import col\n",
        "from pyspark.sql import SparkSession\n",
        "from pyspark import SparkContext, SparkConf\n",
        "from pyspark.sql.types import StructType, StructField, StringType, DateType"
      ],
      "metadata": {
        "id": "mqq1z_-o77OM"
      },
      "execution_count": 3,
      "outputs": []
    },
    {
      "cell_type": "code",
      "source": [
        "os.environ['PYSPARK_SUBMIT_ARGS'] = '--packages com.databricks:spark-xml_2.12:0.13.0 pyspark-shell'\n",
        "sc = SparkSession.builder.appName(\"Big_Data_Lab_2\").master(\"local[*]\").getOrCreate()"
      ],
      "metadata": {
        "id": "g6pCq7uS8Kaz"
      },
      "execution_count": 4,
      "outputs": []
    },
    {
      "cell_type": "code",
      "source": [
        "sc"
      ],
      "metadata": {
        "colab": {
          "base_uri": "https://localhost:8080/",
          "height": 219
        },
        "id": "mA374l3I819P",
        "outputId": "0f98b1df-152a-4c91-bb1c-8214768618e1"
      },
      "execution_count": 5,
      "outputs": [
        {
          "output_type": "execute_result",
          "data": {
            "text/html": [
              "\n",
              "            <div>\n",
              "                <p><b>SparkSession - in-memory</b></p>\n",
              "                \n",
              "        <div>\n",
              "            <p><b>SparkContext</b></p>\n",
              "\n",
              "            <p><a href=\"http://e52da15cb4ab:4040\">Spark UI</a></p>\n",
              "\n",
              "            <dl>\n",
              "              <dt>Version</dt>\n",
              "                <dd><code>v3.2.0</code></dd>\n",
              "              <dt>Master</dt>\n",
              "                <dd><code>local[*]</code></dd>\n",
              "              <dt>AppName</dt>\n",
              "                <dd><code>Big_Data_Lab_2</code></dd>\n",
              "            </dl>\n",
              "        </div>\n",
              "        \n",
              "            </div>\n",
              "        "
            ],
            "text/plain": [
              "<pyspark.sql.session.SparkSession at 0x7f3c226d6090>"
            ]
          },
          "metadata": {},
          "execution_count": 5
        }
      ]
    },
    {
      "cell_type": "code",
      "source": [
        "#Загружаем нужные нам файлы\n",
        "\n",
        "programming_languages = sc.read.csv(\"/content/drive/MyDrive/programming-languages.csv\")\n",
        "posts_sample = sc.read.format(\"xml\").options(rowTag=\"row\").load('/content/drive/MyDrive/posts_sample.xml')"
      ],
      "metadata": {
        "id": "7iKmRLBX86Qq"
      },
      "execution_count": 14,
      "outputs": []
    },
    {
      "cell_type": "code",
      "source": [
        "posts_sample.take(3)"
      ],
      "metadata": {
        "colab": {
          "base_uri": "https://localhost:8080/"
        },
        "id": "Sn8x6ln3D7yP",
        "outputId": "3f5e438d-e5d3-449f-c6f6-d87af3cb19f2"
      },
      "execution_count": 15,
      "outputs": [
        {
          "output_type": "execute_result",
          "data": {
            "text/plain": [
              "[Row(_AcceptedAnswerId=7, _AnswerCount=13, _Body=\"<p>I want to use a track-bar to change a form's opacity.</p>\\n\\n<p>This is my code:</p>\\n\\n<pre><code>decimal trans = trackBar1.Value / 5000;\\nthis.Opacity = trans;\\n</code></pre>\\n\\n<p>When I build the application, it gives the following error:</p>\\n\\n<blockquote>\\n  <p>Cannot implicitly convert type <code>'decimal'</code> to <code>'double'</code></p>\\n</blockquote>\\n\\n<p>I tried using <code>trans</code> and <code>double</code> but then the control doesn't work. This code worked fine in a past VB.NET project.</p>\\n\", _ClosedDate=None, _CommentCount=2, _CommunityOwnedDate=datetime.datetime(2012, 10, 31, 16, 42, 47, 213000), _CreationDate=datetime.datetime(2008, 7, 31, 21, 42, 52, 667000), _FavoriteCount=48, _Id=4, _LastActivityDate=datetime.datetime(2019, 7, 19, 1, 39, 54, 173000), _LastEditDate=datetime.datetime(2019, 7, 19, 1, 39, 54, 173000), _LastEditorDisplayName='Rich B', _LastEditorUserId=3641067, _OwnerDisplayName=None, _OwnerUserId=8, _ParentId=None, _PostTypeId=1, _Score=630, _Tags='<c#><floating-point><type-conversion><double><decimal>', _Title='Convert Decimal to Double?', _ViewCount=42817),\n",
              " Row(_AcceptedAnswerId=31, _AnswerCount=6, _Body=\"<p>I have an absolutely positioned <code>div</code> containing several children, one of which is a relatively positioned <code>div</code>. When I use a <code>percentage-based width</code> on the child <code>div</code>, it collapses to <code>0 width</code> on IE7, but not on Firefox or Safari.</p>\\n\\n<p>If I use <code>pixel width</code>, it works. If the parent is relatively positioned, the percentage width on the child works.</p>\\n\\n<ol>\\n<li>Is there something I'm missing here?</li>\\n<li>Is there an easy fix for this besides the <code>pixel-based width</code> on the\\nchild?</li>\\n<li>Is there an area of the CSS specification that covers this?</li>\\n</ol>\\n\", _ClosedDate=None, _CommentCount=0, _CommunityOwnedDate=None, _CreationDate=datetime.datetime(2008, 7, 31, 22, 8, 8, 620000), _FavoriteCount=10, _Id=6, _LastActivityDate=datetime.datetime(2019, 7, 19, 1, 43, 4, 77000), _LastEditDate=datetime.datetime(2019, 7, 19, 1, 43, 4, 77000), _LastEditorDisplayName='Rich B', _LastEditorUserId=3641067, _OwnerDisplayName=None, _OwnerUserId=9, _ParentId=None, _PostTypeId=1, _Score=281, _Tags='<html><css><internet-explorer-7>', _Title='Percentage width child element in absolutely positioned parent on Internet Explorer 7', _ViewCount=18214),\n",
              " Row(_AcceptedAnswerId=None, _AnswerCount=None, _Body=\"<p>An explicit cast to double like this isn't necessary:</p>\\n\\n<pre><code>double trans = (double) trackBar1.Value / 5000.0;\\n</code></pre>\\n\\n<p>Identifying the constant as <code>5000.0</code> (or as <code>5000d</code>) is sufficient:</p>\\n\\n<pre><code>double trans = trackBar1.Value / 5000.0;\\ndouble trans = trackBar1.Value / 5000d;\\n</code></pre>\\n\", _ClosedDate=None, _CommentCount=0, _CommunityOwnedDate=None, _CreationDate=datetime.datetime(2008, 7, 31, 22, 17, 57, 883000), _FavoriteCount=None, _Id=7, _LastActivityDate=datetime.datetime(2017, 12, 16, 5, 6, 57, 613000), _LastEditDate=datetime.datetime(2017, 12, 16, 5, 6, 57, 613000), _LastEditorDisplayName=None, _LastEditorUserId=4020527, _OwnerDisplayName=None, _OwnerUserId=9, _ParentId=4, _PostTypeId=2, _Score=425, _Tags=None, _Title=None, _ViewCount=None)]"
            ]
          },
          "metadata": {},
          "execution_count": 15
        }
      ]
    },
    {
      "cell_type": "code",
      "source": [
        "#Представим его в виде списка языков программирования\n",
        "list_of_languages = [str(x[0]) for x in programming_languages.collect()]"
      ],
      "metadata": {
        "id": "ILH_dPrv-HhM"
      },
      "execution_count": 16,
      "outputs": []
    },
    {
      "cell_type": "code",
      "source": [
        "#удалим заголовок и посмотрим список\n",
        "list_of_languages.pop(0)\n",
        "print(list_of_languages[:25])"
      ],
      "metadata": {
        "colab": {
          "base_uri": "https://localhost:8080/"
        },
        "id": "jtCaQ6is-YJ2",
        "outputId": "28d41cf6-76e1-4069-f683-42c70c47fc21"
      },
      "execution_count": 17,
      "outputs": [
        {
          "output_type": "stream",
          "name": "stdout",
          "text": [
            "['A# .NET', 'A# (Axiom)', 'A-0 System', 'A+', 'A++', 'ABAP', 'ABC', 'ABC ALGOL', 'ABSET', 'ABSYS', 'ACC', 'Accent', 'Ace DASL', 'ACL2', 'ACT-III', 'Action!', 'ActionScript', 'Ada', 'Adenine', 'Agda', 'Agilent VEE', 'Agora', 'AIMMS', 'Alef', 'ALF']\n"
          ]
        }
      ]
    },
    {
      "cell_type": "code",
      "source": [
        "# Зададим функцию, которая будет отметать данные, не относящиеся к периоду с 2010 по 2020 год\n",
        "def correct_year(x, year):\n",
        "  start = datetime(year=year, month=1, day=1)\n",
        "  end = datetime(year=year, month=12, day=31)\n",
        "  CreationDate = x._CreationDate\n",
        "  return CreationDate >= start and CreationDate <= end"
      ],
      "metadata": {
        "id": "LWQEfLu9BZLg"
      },
      "execution_count": 18,
      "outputs": []
    },
    {
      "cell_type": "code",
      "source": [
        "# Зададим функцию для перевода текста в нижний регистр, нахождения названия языка программирования в тексте и добавления его в кортеж\n",
        "def finding_language(x):\n",
        "  tag = None\n",
        "  for language in list_of_languages:\n",
        "    if \"<\" + language.lower() + \">\" in x._Tags.lower():\n",
        "      tag = language\n",
        "      break\n",
        "  if tag is None:\n",
        "    return None\n",
        "  return (x._Id, tag)"
      ],
      "metadata": {
        "id": "ysO7htDl-r4l"
      },
      "execution_count": 20,
      "outputs": []
    },
    {
      "cell_type": "code",
      "source": [
        "#Задание 1: Сформировать отчёт\n",
        "programming_languages_report = {}\n",
        "for year in range(2010, 2020):\n",
        "  programming_languages_report[year] = posts_sample.rdd\\\n",
        "      .filter(lambda x: x._Tags is not None and correct_year(x, year))\\\n",
        "      .map(finding_language)\\\n",
        "      .filter(lambda x: x is not None)\\\n",
        "      .keyBy(lambda x: x[1])\\\n",
        "      .aggregateByKey(\n",
        "          0,\n",
        "          lambda x, y: x + 1,\n",
        "          lambda x1, x2: x1 + x2,\n",
        "      )\\\n",
        "      .sortBy(lambda x: x[1], ascending=False)\\\n",
        "      .toDF()\n",
        "  programming_languages_report[year] = programming_languages_report[year].select(col(\"_1\").alias(\"Programming_language\"), \n",
        "                                                 col(\"_2\").alias(f\"Mentions_in_{year}\")).limit(10)"
      ],
      "metadata": {
        "id": "MJmpz8YSB4CL"
      },
      "execution_count": 21,
      "outputs": []
    },
    {
      "cell_type": "code",
      "source": [
        "#Выводим отчёт:\n",
        "for year in range(2010, 2020):\n",
        "  programming_languages_report[year].show()"
      ],
      "metadata": {
        "colab": {
          "base_uri": "https://localhost:8080/"
        },
        "id": "sUH67FUIFCZ4",
        "outputId": "4ab053ac-a1a8-49e4-e303-c2ebbd622671"
      },
      "execution_count": 22,
      "outputs": [
        {
          "output_type": "stream",
          "name": "stdout",
          "text": [
            "+--------------------+----------------+\n",
            "|Programming_language|Mentions_in_2010|\n",
            "+--------------------+----------------+\n",
            "|                Java|              52|\n",
            "|          JavaScript|              44|\n",
            "|                 PHP|              42|\n",
            "|              Python|              25|\n",
            "|         Objective-C|              22|\n",
            "|                   C|              20|\n",
            "|                Ruby|              11|\n",
            "|              Delphi|               7|\n",
            "|                   R|               3|\n",
            "|                Bash|               3|\n",
            "+--------------------+----------------+\n",
            "\n",
            "+--------------------+----------------+\n",
            "|Programming_language|Mentions_in_2011|\n",
            "+--------------------+----------------+\n",
            "|                 PHP|              97|\n",
            "|                Java|              92|\n",
            "|          JavaScript|              82|\n",
            "|              Python|              35|\n",
            "|         Objective-C|              33|\n",
            "|                   C|              24|\n",
            "|                Ruby|              17|\n",
            "|              Delphi|               8|\n",
            "|                Perl|               8|\n",
            "|                Bash|               7|\n",
            "+--------------------+----------------+\n",
            "\n",
            "+--------------------+----------------+\n",
            "|Programming_language|Mentions_in_2012|\n",
            "+--------------------+----------------+\n",
            "|                 PHP|             136|\n",
            "|          JavaScript|             129|\n",
            "|                Java|             124|\n",
            "|              Python|              65|\n",
            "|         Objective-C|              45|\n",
            "|                   C|              27|\n",
            "|                Ruby|              25|\n",
            "|                Bash|               9|\n",
            "|                   R|               9|\n",
            "|              MATLAB|               6|\n",
            "+--------------------+----------------+\n",
            "\n",
            "+--------------------+----------------+\n",
            "|Programming_language|Mentions_in_2013|\n",
            "+--------------------+----------------+\n",
            "|          JavaScript|             196|\n",
            "|                Java|             191|\n",
            "|                 PHP|             173|\n",
            "|              Python|              87|\n",
            "|         Objective-C|              40|\n",
            "|                   C|              36|\n",
            "|                Ruby|              30|\n",
            "|                   R|              25|\n",
            "|                Bash|              11|\n",
            "|               Scala|              10|\n",
            "+--------------------+----------------+\n",
            "\n",
            "+--------------------+----------------+\n",
            "|Programming_language|Mentions_in_2014|\n",
            "+--------------------+----------------+\n",
            "|          JavaScript|             235|\n",
            "|                Java|             228|\n",
            "|                 PHP|             154|\n",
            "|              Python|             103|\n",
            "|                   C|              52|\n",
            "|         Objective-C|              49|\n",
            "|                   R|              28|\n",
            "|                Ruby|              20|\n",
            "|              MATLAB|              16|\n",
            "|                Bash|              13|\n",
            "+--------------------+----------------+\n",
            "\n",
            "+--------------------+----------------+\n",
            "|Programming_language|Mentions_in_2015|\n",
            "+--------------------+----------------+\n",
            "|          JavaScript|             270|\n",
            "|                Java|             208|\n",
            "|                 PHP|             147|\n",
            "|              Python|             119|\n",
            "|                   R|              43|\n",
            "|                   C|              38|\n",
            "|         Objective-C|              30|\n",
            "|                Ruby|              20|\n",
            "|              MATLAB|              16|\n",
            "|               Scala|              13|\n",
            "+--------------------+----------------+\n",
            "\n",
            "+--------------------+----------------+\n",
            "|Programming_language|Mentions_in_2016|\n",
            "+--------------------+----------------+\n",
            "|          JavaScript|             271|\n",
            "|                Java|             178|\n",
            "|              Python|             140|\n",
            "|                 PHP|             126|\n",
            "|                   R|              50|\n",
            "|                   C|              32|\n",
            "|                Ruby|              21|\n",
            "|                Bash|              16|\n",
            "|               Scala|              16|\n",
            "|              MATLAB|              15|\n",
            "+--------------------+----------------+\n",
            "\n",
            "+--------------------+----------------+\n",
            "|Programming_language|Mentions_in_2017|\n",
            "+--------------------+----------------+\n",
            "|          JavaScript|             244|\n",
            "|                Java|             204|\n",
            "|              Python|             185|\n",
            "|                 PHP|             122|\n",
            "|                   R|              53|\n",
            "|                   C|              24|\n",
            "|         Objective-C|              19|\n",
            "|                Ruby|              16|\n",
            "|          TypeScript|              14|\n",
            "|          PowerShell|              14|\n",
            "+--------------------+----------------+\n",
            "\n",
            "+--------------------+----------------+\n",
            "|Programming_language|Mentions_in_2018|\n",
            "+--------------------+----------------+\n",
            "|              Python|             214|\n",
            "|          JavaScript|             194|\n",
            "|                Java|             145|\n",
            "|                 PHP|              99|\n",
            "|                   R|              63|\n",
            "|                   C|              24|\n",
            "|               Scala|              22|\n",
            "|          TypeScript|              21|\n",
            "|          PowerShell|              13|\n",
            "|                Bash|              12|\n",
            "+--------------------+----------------+\n",
            "\n",
            "+--------------------+----------------+\n",
            "|Programming_language|Mentions_in_2019|\n",
            "+--------------------+----------------+\n",
            "|              Python|             162|\n",
            "|          JavaScript|             131|\n",
            "|                Java|              95|\n",
            "|                 PHP|              59|\n",
            "|                   R|              36|\n",
            "|                   C|              14|\n",
            "|                  Go|               9|\n",
            "|              MATLAB|               9|\n",
            "|                Dart|               9|\n",
            "|                Bash|               8|\n",
            "+--------------------+----------------+\n",
            "\n"
          ]
        }
      ]
    },
    {
      "cell_type": "code",
      "source": [
        "#Задание 2: Сохраним отчёт\n",
        "for year in programming_languages_report.keys():\n",
        "    programming_languages_report[year].write.format(\"parquet\").save(f\"/content/drive/MyDrive/programming_language/the_most_popular_in_{year}\")"
      ],
      "metadata": {
        "id": "_XEWavJwFpXn"
      },
      "execution_count": 23,
      "outputs": []
    }
  ]
}