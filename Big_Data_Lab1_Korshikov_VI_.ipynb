{
  "nbformat": 4,
  "nbformat_minor": 0,
  "metadata": {
    "colab": {
      "name": "Big_Data_Lab1-Korshikov-VI-.ipynb",
      "provenance": [],
      "collapsed_sections": []
    },
    "kernelspec": {
      "name": "python3",
      "display_name": "Python 3"
    },
    "language_info": {
      "name": "python"
    }
  },
  "cells": [
    {
      "cell_type": "code",
      "metadata": {
        "colab": {
          "base_uri": "https://localhost:8080/"
        },
        "id": "MWdWarYwFwh9",
        "outputId": "f48e2b77-3dc1-40b4-d629-3849a62ae585"
      },
      "source": [
        "#Подключаемся к диску\n",
        "from google.colab import drive\n",
        "drive.mount('/content/drive')"
      ],
      "execution_count": 1,
      "outputs": [
        {
          "output_type": "stream",
          "name": "stdout",
          "text": [
            "Mounted at /content/drive\n"
          ]
        }
      ]
    },
    {
      "cell_type": "code",
      "source": [
        "!pip install pyspark==3.0.1 py4j==0.10.9"
      ],
      "metadata": {
        "colab": {
          "base_uri": "https://localhost:8080/"
        },
        "id": "B0_qenrwJAs3",
        "outputId": "9038d364-c6fa-4313-f8b3-dada4dff2bdb"
      },
      "execution_count": 2,
      "outputs": [
        {
          "output_type": "stream",
          "name": "stdout",
          "text": [
            "Collecting pyspark==3.0.1\n",
            "  Downloading pyspark-3.0.1.tar.gz (204.2 MB)\n",
            "\u001b[K     |████████████████████████████████| 204.2 MB 34 kB/s \n",
            "\u001b[?25hCollecting py4j==0.10.9\n",
            "  Downloading py4j-0.10.9-py2.py3-none-any.whl (198 kB)\n",
            "\u001b[K     |████████████████████████████████| 198 kB 64.1 MB/s \n",
            "\u001b[?25hBuilding wheels for collected packages: pyspark\n",
            "  Building wheel for pyspark (setup.py) ... \u001b[?25l\u001b[?25hdone\n",
            "  Created wheel for pyspark: filename=pyspark-3.0.1-py2.py3-none-any.whl size=204612243 sha256=33aafb3087bf492a746e33c0ebe4b8e77394e974e2abc03d3bf7df951fb50ae7\n",
            "  Stored in directory: /root/.cache/pip/wheels/5e/34/fa/b37b5cef503fc5148b478b2495043ba61b079120b7ff379f9b\n",
            "Successfully built pyspark\n",
            "Installing collected packages: py4j, pyspark\n",
            "Successfully installed py4j-0.10.9 pyspark-3.0.1\n"
          ]
        }
      ]
    },
    {
      "cell_type": "code",
      "source": [
        "#Импортируем библиотеки\n",
        "from math import *\n",
        "from typing import NamedTuple\n",
        "from datetime import datetime\n",
        "\n",
        "import pyspark\n",
        "from pyspark import SparkContext\n",
        "from pyspark import SparkConf\n",
        "from functools import reduce\n"
      ],
      "metadata": {
        "id": "z0m4tQYD0okC"
      },
      "execution_count": 3,
      "outputs": []
    },
    {
      "cell_type": "code",
      "source": [
        "#Создаём сессию\n",
        "sconf = SparkConf().setAppName(\"L1_interactive_bike_analysis\").setMaster(\"local[*]\")"
      ],
      "metadata": {
        "id": "kKaqoDvBoI9S"
      },
      "execution_count": 4,
      "outputs": []
    },
    {
      "cell_type": "code",
      "source": [
        "sc = SparkContext(conf=sconf)"
      ],
      "metadata": {
        "id": "crMXqxEAobiV"
      },
      "execution_count": 5,
      "outputs": []
    },
    {
      "cell_type": "code",
      "source": [
        "sc"
      ],
      "metadata": {
        "colab": {
          "base_uri": "https://localhost:8080/",
          "height": 196
        },
        "id": "vJz9gnqGrGyu",
        "outputId": "835465a2-2faf-4f0c-8769-3d67c49d96f6"
      },
      "execution_count": 6,
      "outputs": [
        {
          "output_type": "execute_result",
          "data": {
            "text/html": [
              "\n",
              "        <div>\n",
              "            <p><b>SparkContext</b></p>\n",
              "\n",
              "            <p><a href=\"http://b67fd67dad7a:4040\">Spark UI</a></p>\n",
              "\n",
              "            <dl>\n",
              "              <dt>Version</dt>\n",
              "                <dd><code>v3.0.1</code></dd>\n",
              "              <dt>Master</dt>\n",
              "                <dd><code>local[*]</code></dd>\n",
              "              <dt>AppName</dt>\n",
              "                <dd><code>L1_interactive_bike_analysis</code></dd>\n",
              "            </dl>\n",
              "        </div>\n",
              "        "
            ],
            "text/plain": [
              "<SparkContext master=local[*] appName=L1_interactive_bike_analysis>"
            ]
          },
          "metadata": {},
          "execution_count": 6
        }
      ]
    },
    {
      "cell_type": "code",
      "metadata": {
        "id": "bun_QlqjGH9S"
      },
      "source": [
        "# Импортируем файлы\n",
        "trip = sc.textFile(\"/content/drive/MyDrive/trip.csv\")\n",
        "status = sc.textFile(\"/content/drive/MyDrive/status.csv\")\n",
        "station = sc.textFile(\"/content/drive/MyDrive/station.csv\")\n",
        "weather = sc.textFile(\"/content/drive/MyDrive/weather.csv\")"
      ],
      "execution_count": 7,
      "outputs": []
    },
    {
      "cell_type": "code",
      "source": [
        "# Выделяем заголовки\n",
        "\n",
        "header_trip = trip.first()\n",
        "header_status = status.first()\n",
        "header_station = station.first()\n",
        "header_weather = weather.first()"
      ],
      "metadata": {
        "id": "VpJGiMGVsaJU"
      },
      "execution_count": 8,
      "outputs": []
    },
    {
      "cell_type": "code",
      "source": [
        "# Убираем заголовки\n",
        "trip_no_header = trip.filter(lambda row: row != header_trip)\n",
        "status_no_header = status.filter(lambda row: row != header_status)\n",
        "station_no_header = station.filter(lambda row: row != header_station)\n",
        "weather_no_header = weather.filter(lambda row: row != header_weather)"
      ],
      "metadata": {
        "id": "1BtN4idSvleA"
      },
      "execution_count": 9,
      "outputs": []
    },
    {
      "cell_type": "code",
      "source": [
        "#Сохраняем заголовки в виде ячеек\n",
        "trip_parameters = list(enumerate(header_trip.split(\",\")))\n",
        "status_parameters = list(enumerate(header_status.split(\",\")))\n",
        "station_parameters = list(enumerate(header_station.split(\",\")))\n",
        "weather_parameters = list(enumerate(header_weather.split(\",\")))\n"
      ],
      "metadata": {
        "id": "eNlw5WoU2gji"
      },
      "execution_count": 10,
      "outputs": []
    },
    {
      "cell_type": "code",
      "source": [
        "#Разбиение данных на ячейки\n",
        "trip_cells = trip_no_header.map(lambda x: x.split(','))\n",
        "status_cells = status_no_header.map(lambda x: x.split(','))\n",
        "station_cells = station_no_header.map(lambda x: x.split(','))\n",
        "weather_cells = weather_no_header.map(lambda x: x.split(','))"
      ],
      "metadata": {
        "id": "dZWjjZBmqTiu"
      },
      "execution_count": 11,
      "outputs": []
    },
    {
      "cell_type": "code",
      "source": [
        "# На основании сохранённых параметров, задаём модели для trip и station\n",
        "print(trip_parameters)\n",
        "\n",
        "def initModelTrip(trips):\n",
        "    class Trip(NamedTuple):\n",
        "        trip_id: int\n",
        "        duration: int\n",
        "        start_date: datetime\n",
        "        start_station_name: str\n",
        "        start_station_id: int\n",
        "        end_date: datetime\n",
        "        end_station_name: str\n",
        "        end_station_id: int\n",
        "        bike_id: int\n",
        "        subscription_type: str\n",
        "        zip_code: str\n",
        "        \n",
        "    for trip in trips:\n",
        "        try:\n",
        "            yield Trip(                             \n",
        "             trip_id = int(trip[0]),\n",
        "             duration = int(trip[1]),\n",
        "             start_date = datetime.strptime(trip[2], '%m/%d/%Y %H:%M'),\n",
        "             start_station_name = trip[3],\n",
        "             start_station_id = int(trip[4]),\n",
        "             end_date = datetime.strptime(trip[5], '%m/%d/%Y %H:%M'),\n",
        "             end_station_name = trip[6],\n",
        "             end_station_id = trip[7],\n",
        "             bike_id = int(trip[8]),\n",
        "             subscription_type = trip[9],\n",
        "             zip_code = trip[10]\n",
        "            ) \n",
        "        except:\n",
        "            pass"
      ],
      "metadata": {
        "colab": {
          "base_uri": "https://localhost:8080/"
        },
        "id": "Kr-Jreeor8BM",
        "outputId": "24db7ad5-bc5c-4ae4-ce42-e3f65fa38e43"
      },
      "execution_count": 12,
      "outputs": [
        {
          "output_type": "stream",
          "name": "stdout",
          "text": [
            "[(0, 'id'), (1, 'duration'), (2, 'start_date'), (3, 'start_station_name'), (4, 'start_station_id'), (5, 'end_date'), (6, 'end_station_name'), (7, 'end_station_id'), (8, 'bike_id'), (9, 'subscription_type'), (10, 'zip_code')]\n"
          ]
        }
      ]
    },
    {
      "cell_type": "code",
      "source": [
        "print(station_parameters)\n",
        "\n",
        "def initModelStation(stations):\n",
        "    class Station(NamedTuple):\n",
        "        station_id: int\n",
        "        name: str\n",
        "        lat: float\n",
        "        long: float\n",
        "        dockcount: int\n",
        "        landmark: str\n",
        "        installation: str\n",
        "    \n",
        "    for station in stations:\n",
        "        yield Station(\n",
        "            station_id = int(station[0]),\n",
        "            name = station[1],\n",
        "            lat = float(station[2]),\n",
        "            long = float(station[3]),\n",
        "            dockcount = int(station[4]),\n",
        "            landmark = station[5],\n",
        "            installation = datetime.strptime(station[6], '%m/%d/%Y')\n",
        "        )"
      ],
      "metadata": {
        "colab": {
          "base_uri": "https://localhost:8080/"
        },
        "id": "ApvawzfksZ5B",
        "outputId": "3043c75a-8e9a-40e4-8a21-e3d45a8b3704"
      },
      "execution_count": 13,
      "outputs": [
        {
          "output_type": "stream",
          "name": "stdout",
          "text": [
            "[(0, 'id'), (1, 'name'), (2, 'lat'), (3, 'long'), (4, 'dock_count'), (5, 'city'), (6, 'installation_date')]\n"
          ]
        }
      ]
    },
    {
      "cell_type": "code",
      "source": [
        "#Применим получившиеся модели\n",
        "tripsProcessedByModel = trip_cells.mapPartitions(initModelTrip)\n",
        "tripsProcessedByModel.take(10)"
      ],
      "metadata": {
        "colab": {
          "base_uri": "https://localhost:8080/"
        },
        "id": "L6HWcAQVtA0y",
        "outputId": "3d28883a-759f-42ee-b551-8dd84c233143"
      },
      "execution_count": 16,
      "outputs": [
        {
          "output_type": "execute_result",
          "data": {
            "text/plain": [
              "[Trip(trip_id=4576, duration=63, start_date=datetime.datetime(2013, 8, 29, 14, 13), start_station_name='South Van Ness at Market', start_station_id=66, end_date=datetime.datetime(2013, 8, 29, 14, 14), end_station_name='South Van Ness at Market', end_station_id='66', bike_id=520, subscription_type='Subscriber', zip_code='94127'),\n",
              " Trip(trip_id=4607, duration=70, start_date=datetime.datetime(2013, 8, 29, 14, 42), start_station_name='San Jose City Hall', start_station_id=10, end_date=datetime.datetime(2013, 8, 29, 14, 43), end_station_name='San Jose City Hall', end_station_id='10', bike_id=661, subscription_type='Subscriber', zip_code='95138'),\n",
              " Trip(trip_id=4130, duration=71, start_date=datetime.datetime(2013, 8, 29, 10, 16), start_station_name='Mountain View City Hall', start_station_id=27, end_date=datetime.datetime(2013, 8, 29, 10, 17), end_station_name='Mountain View City Hall', end_station_id='27', bike_id=48, subscription_type='Subscriber', zip_code='97214'),\n",
              " Trip(trip_id=4251, duration=77, start_date=datetime.datetime(2013, 8, 29, 11, 29), start_station_name='San Jose City Hall', start_station_id=10, end_date=datetime.datetime(2013, 8, 29, 11, 30), end_station_name='San Jose City Hall', end_station_id='10', bike_id=26, subscription_type='Subscriber', zip_code='95060'),\n",
              " Trip(trip_id=4299, duration=83, start_date=datetime.datetime(2013, 8, 29, 12, 2), start_station_name='South Van Ness at Market', start_station_id=66, end_date=datetime.datetime(2013, 8, 29, 12, 4), end_station_name='Market at 10th', end_station_id='67', bike_id=319, subscription_type='Subscriber', zip_code='94103'),\n",
              " Trip(trip_id=4927, duration=103, start_date=datetime.datetime(2013, 8, 29, 18, 54), start_station_name='Golden Gate at Polk', start_station_id=59, end_date=datetime.datetime(2013, 8, 29, 18, 56), end_station_name='Golden Gate at Polk', end_station_id='59', bike_id=527, subscription_type='Subscriber', zip_code='94109'),\n",
              " Trip(trip_id=4500, duration=109, start_date=datetime.datetime(2013, 8, 29, 13, 25), start_station_name='Santa Clara at Almaden', start_station_id=4, end_date=datetime.datetime(2013, 8, 29, 13, 27), end_station_name='Adobe on Almaden', end_station_id='5', bike_id=679, subscription_type='Subscriber', zip_code='95112'),\n",
              " Trip(trip_id=4563, duration=111, start_date=datetime.datetime(2013, 8, 29, 14, 2), start_station_name='San Salvador at 1st', start_station_id=8, end_date=datetime.datetime(2013, 8, 29, 14, 4), end_station_name='San Salvador at 1st', end_station_id='8', bike_id=687, subscription_type='Subscriber', zip_code='95112'),\n",
              " Trip(trip_id=4760, duration=113, start_date=datetime.datetime(2013, 8, 29, 17, 1), start_station_name='South Van Ness at Market', start_station_id=66, end_date=datetime.datetime(2013, 8, 29, 17, 3), end_station_name='South Van Ness at Market', end_station_id='66', bike_id=553, subscription_type='Subscriber', zip_code='94103'),\n",
              " Trip(trip_id=4258, duration=114, start_date=datetime.datetime(2013, 8, 29, 11, 33), start_station_name='San Jose City Hall', start_station_id=10, end_date=datetime.datetime(2013, 8, 29, 11, 35), end_station_name='MLK Library', end_station_id='11', bike_id=107, subscription_type='Subscriber', zip_code='95060')]"
            ]
          },
          "metadata": {},
          "execution_count": 16
        }
      ]
    },
    {
      "cell_type": "code",
      "source": [
        "stationsProcessedByModel = station_cells.mapPartitions(initModelStation)\n",
        "stationsProcessedByModel.take(25)"
      ],
      "metadata": {
        "colab": {
          "base_uri": "https://localhost:8080/"
        },
        "id": "eqT0CIpBtN-D",
        "outputId": "ee12671f-6e50-4014-b580-9f8d71fcb0ad"
      },
      "execution_count": 17,
      "outputs": [
        {
          "output_type": "execute_result",
          "data": {
            "text/plain": [
              "[Station(station_id=2, name='San Jose Diridon Caltrain Station', lat=37.329732, long=-121.90178200000001, dockcount=27, landmark='San Jose', installation=datetime.datetime(2013, 8, 6, 0, 0)),\n",
              " Station(station_id=3, name='San Jose Civic Center', lat=37.330698, long=-121.888979, dockcount=15, landmark='San Jose', installation=datetime.datetime(2013, 8, 5, 0, 0)),\n",
              " Station(station_id=4, name='Santa Clara at Almaden', lat=37.333988, long=-121.894902, dockcount=11, landmark='San Jose', installation=datetime.datetime(2013, 8, 6, 0, 0)),\n",
              " Station(station_id=5, name='Adobe on Almaden', lat=37.331415, long=-121.8932, dockcount=19, landmark='San Jose', installation=datetime.datetime(2013, 8, 5, 0, 0)),\n",
              " Station(station_id=6, name='San Pedro Square', lat=37.336721000000004, long=-121.894074, dockcount=15, landmark='San Jose', installation=datetime.datetime(2013, 8, 7, 0, 0)),\n",
              " Station(station_id=7, name='Paseo de San Antonio', lat=37.333798, long=-121.88694299999999, dockcount=15, landmark='San Jose', installation=datetime.datetime(2013, 8, 7, 0, 0)),\n",
              " Station(station_id=8, name='San Salvador at 1st', lat=37.330165, long=-121.88583100000001, dockcount=15, landmark='San Jose', installation=datetime.datetime(2013, 8, 5, 0, 0)),\n",
              " Station(station_id=9, name='Japantown', lat=37.348742, long=-121.89471499999999, dockcount=15, landmark='San Jose', installation=datetime.datetime(2013, 8, 5, 0, 0)),\n",
              " Station(station_id=10, name='San Jose City Hall', lat=37.337391, long=-121.886995, dockcount=15, landmark='San Jose', installation=datetime.datetime(2013, 8, 6, 0, 0)),\n",
              " Station(station_id=11, name='MLK Library', lat=37.335885, long=-121.88566000000002, dockcount=19, landmark='San Jose', installation=datetime.datetime(2013, 8, 6, 0, 0)),\n",
              " Station(station_id=12, name='SJSU 4th at San Carlos', lat=37.332808, long=-121.88389099999999, dockcount=19, landmark='San Jose', installation=datetime.datetime(2013, 8, 7, 0, 0)),\n",
              " Station(station_id=13, name='St James Park', lat=37.339301, long=-121.88993700000002, dockcount=15, landmark='San Jose', installation=datetime.datetime(2013, 8, 6, 0, 0)),\n",
              " Station(station_id=14, name='Arena Green / SAP Center', lat=37.332692, long=-121.900084, dockcount=19, landmark='San Jose', installation=datetime.datetime(2013, 8, 5, 0, 0)),\n",
              " Station(station_id=16, name='SJSU - San Salvador at 9th', lat=37.333954999999996, long=-121.877349, dockcount=15, landmark='San Jose', installation=datetime.datetime(2013, 8, 7, 0, 0)),\n",
              " Station(station_id=21, name='Franklin at Maple', lat=37.481758, long=-122.226904, dockcount=15, landmark='Redwood City', installation=datetime.datetime(2013, 8, 12, 0, 0)),\n",
              " Station(station_id=22, name='Redwood City Caltrain Station', lat=37.486078000000006, long=-122.23208899999999, dockcount=25, landmark='Redwood City', installation=datetime.datetime(2013, 8, 15, 0, 0)),\n",
              " Station(station_id=23, name='San Mateo County Center', lat=37.487615999999996, long=-122.229951, dockcount=15, landmark='Redwood City', installation=datetime.datetime(2013, 8, 15, 0, 0)),\n",
              " Station(station_id=24, name='Redwood City Public Library', lat=37.484219, long=-122.227424, dockcount=15, landmark='Redwood City', installation=datetime.datetime(2013, 8, 12, 0, 0)),\n",
              " Station(station_id=25, name='Stanford in Redwood City', lat=37.48537, long=-122.20328799999999, dockcount=15, landmark='Redwood City', installation=datetime.datetime(2013, 8, 12, 0, 0)),\n",
              " Station(station_id=26, name='Redwood City Medical Center', lat=37.487682, long=-122.223492, dockcount=15, landmark='Redwood City', installation=datetime.datetime(2013, 8, 12, 0, 0)),\n",
              " Station(station_id=27, name='Mountain View City Hall', lat=37.389218, long=-122.081896, dockcount=15, landmark='Mountain View', installation=datetime.datetime(2013, 8, 16, 0, 0)),\n",
              " Station(station_id=28, name='Mountain View Caltrain Station', lat=37.394358000000004, long=-122.07671299999998, dockcount=23, landmark='Mountain View', installation=datetime.datetime(2013, 8, 15, 0, 0)),\n",
              " Station(station_id=29, name='San Antonio Caltrain Station', lat=37.406940000000006, long=-122.10675800000001, dockcount=23, landmark='Mountain View', installation=datetime.datetime(2013, 8, 15, 0, 0)),\n",
              " Station(station_id=30, name='Evelyn Park and Ride', lat=37.390277000000005, long=-122.066553, dockcount=15, landmark='Mountain View', installation=datetime.datetime(2013, 8, 16, 0, 0)),\n",
              " Station(station_id=31, name='San Antonio Shopping Center', lat=37.400443, long=-122.10833799999999, dockcount=15, landmark='Mountain View', installation=datetime.datetime(2013, 12, 31, 0, 0))]"
            ]
          },
          "metadata": {},
          "execution_count": 17
        }
      ]
    },
    {
      "cell_type": "code",
      "source": [
        "#Теперь перейдём к выполнению заданий\n",
        "#Задание №1\n",
        "#Делим данные на пары ключ-значение\n",
        "tripMapWithBicycle = tripsProcessedByModel.keyBy(lambda x: x.bike_id)\n",
        "\n",
        "\n",
        "#Сгруппируем данные по продолжительности\n",
        "durationBicycleMap = tripMapWithBicycle.mapValues(lambda x: x.duration).reduceByKey(lambda x1, x2: x1 + x2)"
      ],
      "metadata": {
        "id": "QnT6hcLavIdJ"
      },
      "execution_count": 18,
      "outputs": []
    },
    {
      "cell_type": "code",
      "source": [
        "#Задание 1: Ответ: Велосипед с максимальным временем робега, это:\n",
        "highest_mileage = durationBicycleMap.top(1, key=lambda x: x[1])[0][0]\n",
        "\n",
        "print(highest_mileage)"
      ],
      "metadata": {
        "colab": {
          "base_uri": "https://localhost:8080/"
        },
        "id": "0vpJVxIVxKvZ",
        "outputId": "2dee0ddf-b391-43df-bf8f-bc65490cced5"
      },
      "execution_count": 19,
      "outputs": [
        {
          "output_type": "stream",
          "name": "stdout",
          "text": [
            "535\n"
          ]
        }
      ]
    },
    {
      "cell_type": "code",
      "source": [
        "#Задание 2: Найти наибольшее геодезическое расстояние между станциями.\n",
        "#Задаём метод отсчёта геодезического расстояния\n",
        "def distance_between_stations(gLatitudeFirstStation, gLongitudeFirstStation, gLatitudeSecondStation, gLongitudeSecondStation):\n",
        "  earth_radius = 6371.0088\n",
        "  gLatitudeFirstStation, gLongitudeFirstStation = radians(gLatitudeFirstStation), radians(gLongitudeFirstStation)\n",
        "  gLatitudeSecondStation, gLongitudeSecondStation = radians(gLatitudeSecondStation), radians(gLongitudeSecondStation)\n",
        "\n",
        "  differenceLatitude = gLatitudeSecondStation - gLatitudeFirstStation\n",
        "  differenceLongitude = gLongitudeSecondStation - gLongitudeFirstStation\n",
        "  \n",
        "  haversinusLatitutde = (sin(differenceLatitude / 2)) ** 2\n",
        "  haversinusLongitude = (sin(differenceLongitude / 2)) ** 2\n",
        "  \n",
        "  return 2 * earth_radius * sqrt(haversinusLatitutde + cos(gLatitudeFirstStation)\\\n",
        "                                 * cos(gLatitudeSecondStation) * haversinusLongitude)"
      ],
      "metadata": {
        "id": "vW6afTyixdXd"
      },
      "execution_count": 20,
      "outputs": []
    },
    {
      "cell_type": "code",
      "source": [
        "#Вычислим расстояние между станциями\n",
        "map_distance = stationsProcessedByModel.cartesian(stationsProcessedByModel)\\\n",
        "                         .filter(lambda x: x[0].station_id != x[1].station_id)\\\n",
        "                         .map(lambda x: [x[0], x[1], distance_between_stations(x[0].lat, x[0].long, x[1].lat, x[1].long)])\\\n",
        "                         .keyBy(lambda x: (x[0].name, x[1].name))\\\n",
        "                         .reduce(lambda x1, x2: x1 if x1[1] > x2[1] else x2)"
      ],
      "metadata": {
        "id": "_02gL4aoySb1"
      },
      "execution_count": 21,
      "outputs": []
    },
    {
      "cell_type": "code",
      "source": [
        "#Задание 2: Ответ: Максимальное расстояние между станциями \n",
        "way_between_stantion = map_distance[0]\n",
        "longest_distance = map_distance[1][2]\n",
        "\n",
        "print(f\"Расстояние между станциями: {way_between_stantion}, составляет {longest_distance} и является максимальным.\")"
      ],
      "metadata": {
        "colab": {
          "base_uri": "https://localhost:8080/"
        },
        "id": "dFscfNFByfpy",
        "outputId": "5b55081c-7e8e-4793-92c3-86973f3eb9d4"
      },
      "execution_count": 22,
      "outputs": [
        {
          "output_type": "stream",
          "name": "stdout",
          "text": [
            "Расстояние между станциями: ('Ryland Park', 'Mezes Park'), составляет 34.317914350160784 и является максимальным.\n"
          ]
        }
      ]
    },
    {
      "cell_type": "code",
      "source": [
        "#Задание 3: Найти путь велосипеда с максимальным временем пробега через станции\n",
        "way_of_bicycle = tripsProcessedByModel.filter(lambda x: x.bike_id == highest_mileage)\\\n",
        ".sortBy(lambda x: x.start_date).map(lambda x: (x.start_station_name, x.end_station_name))\n",
        "# Ответ:\n",
        "way_of_bicycle.take(10)"
      ],
      "metadata": {
        "colab": {
          "base_uri": "https://localhost:8080/"
        },
        "id": "p4ZVc8aIzbZ7",
        "outputId": "12596ec6-e4e3-42cb-bd40-242924d8e649"
      },
      "execution_count": 23,
      "outputs": [
        {
          "output_type": "execute_result",
          "data": {
            "text/plain": [
              "[('Post at Kearney', 'San Francisco Caltrain (Townsend at 4th)'),\n",
              " ('San Francisco Caltrain (Townsend at 4th)',\n",
              "  'San Francisco Caltrain 2 (330 Townsend)'),\n",
              " ('San Francisco Caltrain 2 (330 Townsend)', 'Market at Sansome'),\n",
              " ('Market at Sansome', '2nd at South Park'),\n",
              " ('2nd at Townsend', 'Davis at Jackson'),\n",
              " ('San Francisco City Hall', 'Civic Center BART (7th at Market)'),\n",
              " ('Civic Center BART (7th at Market)', 'Post at Kearney'),\n",
              " ('Post at Kearney', 'Embarcadero at Sansome'),\n",
              " ('Embarcadero at Sansome', 'Washington at Kearney'),\n",
              " ('Washington at Kearney', 'Market at Sansome')]"
            ]
          },
          "metadata": {},
          "execution_count": 23
        }
      ]
    },
    {
      "cell_type": "code",
      "source": [
        "#Задание 4: Найти количество велосипедов в системе\n",
        "count_bicycle = tripsProcessedByModel.map(lambda x: x.bike_id).distinct().count()\n",
        "# Ответ:\n",
        "print(count_bicycle)"
      ],
      "metadata": {
        "colab": {
          "base_uri": "https://localhost:8080/"
        },
        "id": "9E5STznU0YQC",
        "outputId": "ab31f283-2141-425b-d2a6-efcb3944d396"
      },
      "execution_count": 24,
      "outputs": [
        {
          "output_type": "stream",
          "name": "stdout",
          "text": [
            "700\n"
          ]
        }
      ]
    },
    {
      "cell_type": "code",
      "source": [
        "#Задание 5. Найти пользователей потративших на поездки более 3 часов\n",
        "three_hours = 3*60*60\n",
        "riders = tripsProcessedByModel.filter(lambda x: x.duration > three_hours)\\\n",
        ".map(lambda x: x.zip_code).filter(lambda x: x != \"\").distinct()\n",
        "#Ответ(получился слишком большим, поэтому будут продемонстрированы только 25 записей пользователей):\n",
        "print(riders.take(25))"
      ],
      "metadata": {
        "colab": {
          "base_uri": "https://localhost:8080/"
        },
        "id": "M4EIwQfy105_",
        "outputId": "76f0c36c-7b0e-4be1-9139-717d72b6c529"
      },
      "execution_count": 27,
      "outputs": [
        {
          "output_type": "stream",
          "name": "stdout",
          "text": [
            "['58553', '94301', '94039', '94133', '93726', '94123', '4517', '29200', '45322', '94080', '92808', '5024', '89138', '11515', '28277', '34990', '94803', '92663', '94109', '91801', '8545', '95351', '94063', '90049', '60056']\n"
          ]
        }
      ]
    },
    {
      "cell_type": "code",
      "source": [
        ""
      ],
      "metadata": {
        "id": "ZF-4XKUT2IY8"
      },
      "execution_count": null,
      "outputs": []
    }
  ]
}